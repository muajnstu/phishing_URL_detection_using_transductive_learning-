{
  "cells": [
    {
      "cell_type": "markdown",
      "metadata": {
        "id": "view-in-github",
        "colab_type": "text"
      },
      "source": [
        "<a href=\"https://colab.research.google.com/github/muajnstu/phishing_URL_detection_using_transductive_learning-/blob/main/Transductive_learning_using_several_classifier.ipynb\" target=\"_parent\"><img src=\"https://colab.research.google.com/assets/colab-badge.svg\" alt=\"Open In Colab\"/></a>"
      ]
    },
    {
      "cell_type": "code",
      "execution_count": null,
      "metadata": {
        "colab": {
          "base_uri": "https://localhost:8080/"
        },
        "id": "j_dSvhlRfhUj",
        "outputId": "0d33972b-65be-4416-c492-a751933d00c8"
      },
      "outputs": [
        {
          "name": "stdout",
          "output_type": "stream",
          "text": [
            "Accuracy on unlabeled data: 0.48\n"
          ]
        }
      ],
      "source": [
        "import numpy as np\n",
        "from sklearn.datasets import make_circles\n",
        "from sklearn.model_selection import train_test_split\n",
        "from sklearn.semi_supervised import LabelPropagation\n",
        "from sklearn.metrics import accuracy_score\n",
        "\n",
        "# Create a synthetic dataset with two circles\n",
        "X, y = make_circles(n_samples=100, factor=0.5, noise=0.05, random_state=42)\n",
        "y[::5] = -1  # Introduce some unlabeled instances\n",
        "\n",
        "# Split the data into labeled and unlabeled sets\n",
        "X_labeled, X_unlabeled, y_labeled, y_unlabeled = train_test_split(X, y, test_size=0.5, stratify=y, random_state=42)\n",
        "\n",
        "# Create a LabelPropagation model and fit it on the labeled data\n",
        "label_prop_model = LabelPropagation(kernel='knn', n_neighbors=10)\n",
        "label_prop_model.fit(X_labeled, y_labeled)\n",
        "\n",
        "# Predict labels for the unlabeled data\n",
        "y_pred = label_prop_model.predict(X_unlabeled)\n",
        "\n",
        "# Evaluate the performance on the unlabeled data\n",
        "accuracy = accuracy_score(y_unlabeled, y_pred)\n",
        "print(f\"Accuracy on unlabeled data: {accuracy:.2f}\")\n"
      ]
    },
    {
      "cell_type": "code",
      "execution_count": 2,
      "metadata": {
        "colab": {
          "base_uri": "https://localhost:8080/"
        },
        "id": "G5v8CsbFls5F",
        "outputId": "a7e0a582-2854-4cf7-b029-0d361e457476"
      },
      "outputs": [
        {
          "output_type": "stream",
          "name": "stderr",
          "text": [
            "<ipython-input-2-de56f6b5609a>:18: SettingWithCopyWarning: \n",
            "A value is trying to be set on a copy of a slice from a DataFrame\n",
            "\n",
            "See the caveats in the documentation: https://pandas.pydata.org/pandas-docs/stable/user_guide/indexing.html#returning-a-view-versus-a-copy\n",
            "  target[unlabeled_indices] = -1  # Treat these instances as unlabeled\n"
          ]
        },
        {
          "output_type": "stream",
          "name": "stdout",
          "text": [
            "Accuracy on unlabeled data: 0.99\n",
            "Precision on unlabeled data: 0.9811\n",
            "Recall on unlabeled data: 0.9890\n",
            "F1_score on unlabeled data: 0.9850\n"
          ]
        },
        {
          "output_type": "stream",
          "name": "stderr",
          "text": [
            "/usr/local/lib/python3.10/dist-packages/sklearn/metrics/_classification.py:1344: UndefinedMetricWarning: Precision is ill-defined and being set to 0.0 in labels with no predicted samples. Use `zero_division` parameter to control this behavior.\n",
            "  _warn_prf(average, modifier, msg_start, len(result))\n"
          ]
        }
      ],
      "source": [
        "import pandas as pd\n",
        "import numpy as np\n",
        "from sklearn.model_selection import train_test_split\n",
        "from sklearn.semi_supervised import LabelPropagation\n",
        "from sklearn.metrics import accuracy_score, f1_score, precision_score, recall_score, confusion_matrix\n",
        "\n",
        "# Load the PhiUSIIL Phishing URL Datase\n",
        "url = 'https://media.githubusercontent.com/media/shahriariit/opendataset/master/PhiUSIIL_phishing.csv'\n",
        "data = pd.read_csv(url)\n",
        "\n",
        "# Preprocessing\n",
        "#data['Revenue'] = data['Revenue'].astype(int)\n",
        "#data['Weekend'] = data['Weekend'].astype(int)\n",
        "\n",
        "# Simulate some unlabeled instances\n",
        "num_unlabeled = 1000\n",
        "unlabeled_indices = np.random.choice(len(features), num_unlabeled, replace=False)\n",
        "target[unlabeled_indices] = -1  # Treat these instances as unlabeled\n",
        "\n",
        "# Split data into labeled and unlabeled sets\n",
        "X_labeled, X_unlabeled, y_labeled, y_unlabeled = train_test_split(\n",
        "    features, target, test_size=num_unlabeled, random_state=42, stratify=target)\n",
        "\n",
        "# Create a LabelPropagation model and fit it on the labeled data\n",
        "label_prop_model = LabelPropagation(kernel='knn', n_neighbors=10)\n",
        "label_prop_model.fit(X_labeled, y_labeled)\n",
        "\n",
        "# Predict labels for the unlabeled data\n",
        "y_pred = label_prop_model.predict(X_unlabeled)\n",
        "\n",
        "# Evaluate the performance on the unlabeled data\n",
        "accuracy = accuracy_score(y_unlabeled, y_pred)\n",
        "precision = precision_score(y_unlabeled, y_pred, average='weighted')\n",
        "recall =recall_score(y_unlabeled, y_pred, average='weighted')\n",
        "f_measure = f1_score(y_unlabeled, y_pred, average='weighted')\n",
        "\n",
        "\n",
        "print(f\"Accuracy on unlabeled data: {accuracy:.2f}\")\n",
        "print(f'Precision on unlabeled data: {precision:.4f}')\n",
        "print(f'Recall on unlabeled data: {recall:.4f}')\n",
        "print(f'F1_score on unlabeled data: {f_measure:.4f}')\n",
        "\n"
      ]
    },
    {
      "cell_type": "code",
      "source": [
        "import matplotlib.pyplot as plt\n",
        "import seaborn as sns\n",
        "plt.figure(figsize=(10, 6))\n",
        "sns.countplot(x=data['label'], palette='Blues')\n",
        "plt.title('Distribution of Is phishing', fontsize=15)\n",
        "plt.xlabel('label', fontsize=12)\n",
        "plt.ylabel('Count', fontsize=12)\n",
        "plt.show()"
      ],
      "metadata": {
        "colab": {
          "base_uri": "https://localhost:8080/",
          "height": 677
        },
        "id": "-2OtbYQAhEmo",
        "outputId": "ade3cd7e-690c-4e35-dc03-858086d723d7"
      },
      "execution_count": null,
      "outputs": [
        {
          "output_type": "stream",
          "name": "stderr",
          "text": [
            "<ipython-input-3-016e364232c0>:4: FutureWarning: \n",
            "\n",
            "Passing `palette` without assigning `hue` is deprecated and will be removed in v0.14.0. Assign the `x` variable to `hue` and set `legend=False` for the same effect.\n",
            "\n",
            "  sns.countplot(x=data['label'], palette='Blues')\n"
          ]
        },
        {
          "output_type": "display_data",
          "data": {
            "text/plain": [
              "<Figure size 1000x600 with 1 Axes>"
            ],
            "image/png": "[encoded data removed]"
          },
          "metadata": {}
        }
      ]
    },
    {
      "cell_type": "code",
      "execution_count": null,
      "metadata": {
        "colab": {
          "base_uri": "https://localhost:8080/"
        },
        "id": "S2FaohT_oCL8",
        "outputId": "e176e44a-5922-4a03-e13a-ee34e78f500d"
      },
      "outputs": [
        {
          "name": "stderr",
          "output_type": "stream",
          "text": [
            "<ipython-input-6-5adb11f6eb21>:22: SettingWithCopyWarning: \n",
            "A value is trying to be set on a copy of a slice from a DataFrame\n",
            "\n",
            "See the caveats in the documentation: https://pandas.pydata.org/pandas-docs/stable/user_guide/indexing.html#returning-a-view-versus-a-copy\n",
            "  target[unlabeled_indices] = -1  # Treat these instances as unlabeled\n"
          ]
        },
        {
          "name": "stdout",
          "output_type": "stream",
          "text": [
            "Accuracy on unlabeled data: 1.00\n",
            "Precision on unlabeled data: 0.9920\n",
            "Recall on unlabeled data: 0.9960\n",
            "F1_score on unlabeled data: 0.9940\n"
          ]
        },
        {
          "name": "stderr",
          "output_type": "stream",
          "text": [
            "/usr/local/lib/python3.10/dist-packages/sklearn/metrics/_classification.py:1344: UndefinedMetricWarning: Precision is ill-defined and being set to 0.0 in labels with no predicted samples. Use `zero_division` parameter to control this behavior.\n",
            "  _warn_prf(average, modifier, msg_start, len(result))\n"
          ]
        }
      ],
      "source": [
        "import pandas as pd\n",
        "import numpy as np\n",
        "from sklearn.model_selection import train_test_split\n",
        "from sklearn.ensemble import RandomForestClassifier\n",
        "from sklearn.metrics import accuracy_score, f1_score, precision_score, recall_score\n",
        "\n",
        "# Load the PhiUSIIL Phishing URL Datase\n",
        "url = 'https://media.githubusercontent.com/media/shahriariit/opendataset/master/PhiUSIIL_phishing.csv'\n",
        "data = pd.read_csv(url)\n",
        "\n",
        "# Preprocessing\n",
        "#data['Revenue'] = data['Revenue'].astype(int)\n",
        "#data['Weekend'] = data['Weekend'].astype(int)\n",
        "\n",
        "# Select relevant features and target\n",
        "features = data.drop(['label'], axis=1)\n",
        "target = data['label']\n",
        "\n",
        "# Simulate some unlabeled instances\n",
        "num_unlabeled = 1000\n",
        "unlabeled_indices = np.random.choice(len(features), num_unlabeled, replace=False)\n",
        "target[unlabeled_indices] = -1  # Treat these instances as unlabeled\n",
        "\n",
        "# Split data into labeled and unlabeled sets\n",
        "X_labeled, X_unlabeled, y_labeled, y_unlabeled = train_test_split(\n",
        "    features, target, test_size=num_unlabeled, random_state=42, stratify=target)\n",
        "\n",
        "# Create and train a Random Forest classifier\n",
        "random_forest_classifier = RandomForestClassifier(n_estimators=100, random_state=42)\n",
        "random_forest_classifier.fit(X_labeled, y_labeled)\n",
        "\n",
        "# Predict labels for the unlabeled data\n",
        "y_pred = random_forest_classifier.predict(X_unlabeled)\n",
        "\n",
        "# Evaluate the performance on the unlabeled data\n",
        "accuracy = accuracy_score(y_unlabeled, y_pred)\n",
        "precision = precision_score(y_unlabeled, y_pred, average='weighted')\n",
        "recall =recall_score(y_unlabeled, y_pred, average='weighted')\n",
        "f_measure = f1_score(y_unlabeled, y_pred, average='weighted')\n",
        "\n",
        "\n",
        "print(f\"Accuracy on unlabeled data: {accuracy:.2f}\")\n",
        "print(f'Precision on unlabeled data: {precision:.4f}')\n",
        "print(f'Recall on unlabeled data: {recall:.4f}')\n",
        "print(f'F1_score on unlabeled data: {f_measure:.4f}')\n"
      ]
    },
    {
      "cell_type": "code",
      "execution_count": null,
      "metadata": {
        "colab": {
          "base_uri": "https://localhost:8080/"
        },
        "id": "3tlRqmSemgSu",
        "outputId": "68567dd9-c8c9-423e-ed20-1e5c4b7a5c75"
      },
      "outputs": [
        {
          "name": "stderr",
          "output_type": "stream",
          "text": [
            "<ipython-input-2-7bebde1a9c6e>:20: SettingWithCopyWarning: \n",
            "A value is trying to be set on a copy of a slice from a DataFrame\n",
            "\n",
            "See the caveats in the documentation: https://pandas.pydata.org/pandas-docs/stable/user_guide/indexing.html#returning-a-view-versus-a-copy\n",
            "  target[unlabeled_indices] = -1  # Treat these instances as unlabeled\n"
          ]
        },
        {
          "name": "stdout",
          "output_type": "stream",
          "text": [
            "Accuracy on unlabeled data: 1.00\n",
            "Precision on unlabeled data: 0.9920\n",
            "Recall on unlabeled data: 0.9960\n",
            "F1_score on unlabeled data: 0.9940\n"
          ]
        },
        {
          "name": "stderr",
          "output_type": "stream",
          "text": [
            "/usr/local/lib/python3.10/dist-packages/sklearn/metrics/_classification.py:1344: UndefinedMetricWarning: Precision is ill-defined and being set to 0.0 in labels with no predicted samples. Use `zero_division` parameter to control this behavior.\n",
            "  _warn_prf(average, modifier, msg_start, len(result))\n"
          ]
        }
      ],
      "source": [
        "import pandas as pd\n",
        "import numpy as np\n",
        "from sklearn.model_selection import train_test_split\n",
        "from sklearn.ensemble import BaggingClassifier\n",
        "from sklearn.tree import DecisionTreeClassifier\n",
        "from sklearn.metrics import accuracy_score, f1_score, precision_score, recall_score\n",
        "\n",
        "# Load the PhiUSIIL Phishing URL Datase\n",
        "url = 'https://media.githubusercontent.com/media/shahriariit/opendataset/master/PhiUSIIL_phishing.csv'\n",
        "data = pd.read_csv(url)\n",
        "\n",
        "\n",
        "# Select relevant features and target\n",
        "features = data.drop(['label'], axis=1)\n",
        "target = data['label']\n",
        "\n",
        "# Simulate some unlabeled instances\n",
        "num_unlabeled = 1000\n",
        "unlabeled_indices = np.random.choice(len(features), num_unlabeled, replace=False)\n",
        "target[unlabeled_indices] = -1  # Treat these instances as unlabeled\n",
        "\n",
        "# Split data into labeled and unlabeled sets\n",
        "X_labeled, X_unlabeled, y_labeled, y_unlabeled = train_test_split(\n",
        "    features, target, test_size=num_unlabeled, random_state=42, stratify=target)\n",
        "\n",
        "# Create a base classifier\n",
        "base_classifier = DecisionTreeClassifier(random_state=42)\n",
        "\n",
        "# Create and train a Bagging classifier\n",
        "bagging_classifier = BaggingClassifier(base_classifier, n_estimators=50, random_state=42)\n",
        "bagging_classifier.fit(X_labeled, y_labeled)\n",
        "\n",
        "# Predict labels for the unlabeled data\n",
        "y_pred = bagging_classifier.predict(X_unlabeled)\n",
        "\n",
        "# Evaluate the performance on the unlabeled data\n",
        "accuracy = accuracy_score(y_unlabeled, y_pred)\n",
        "precision = precision_score(y_unlabeled, y_pred, average='weighted')\n",
        "recall =recall_score(y_unlabeled, y_pred, average='weighted')\n",
        "f_measure = f1_score(y_unlabeled, y_pred, average='weighted')\n",
        "\n",
        "\n",
        "print(f\"Accuracy on unlabeled data: {accuracy:.2f}\")\n",
        "print(f'Precision on unlabeled data: {precision:.4f}')\n",
        "print(f'Recall on unlabeled data: {recall:.4f}')\n",
        "print(f'F1_score on unlabeled data: {f_measure:.4f}')\n"
      ]
    },
    {
      "cell_type": "code",
      "execution_count": null,
      "metadata": {
        "colab": {
          "base_uri": "https://localhost:8080/"
        },
        "id": "11mOVY9Jq9xx",
        "outputId": "f919d914-7327-4557-d29a-4bb821679776"
      },
      "outputs": [
        {
          "output_type": "stream",
          "name": "stderr",
          "text": [
            "<ipython-input-1-491545c4648c>:22: SettingWithCopyWarning: \n",
            "A value is trying to be set on a copy of a slice from a DataFrame\n",
            "\n",
            "See the caveats in the documentation: https://pandas.pydata.org/pandas-docs/stable/user_guide/indexing.html#returning-a-view-versus-a-copy\n",
            "  target[unlabeled_indices] = -1  # Treat these instances as unlabeled\n"
          ]
        },
        {
          "output_type": "stream",
          "name": "stdout",
          "text": [
            "Accuracy on unlabeled data: 0.92\n",
            "Precision on unlabeled data: 0.9918\n",
            "Recall on unlabeled data: 0.9230\n",
            "F1_score on unlabeled data: 0.9541\n"
          ]
        }
      ],
      "source": [
        "import pandas as pd\n",
        "import numpy as np\n",
        "from sklearn.model_selection import train_test_split\n",
        "from sklearn.ensemble import AdaBoostClassifier\n",
        "from sklearn.metrics import accuracy_score, f1_score, precision_score, recall_score\n",
        "\n",
        "# Load the PhiUSIIL Phishing URL Datase\n",
        "url = 'https://media.githubusercontent.com/media/shahriariit/opendataset/master/PhiUSIIL_phishing.csv'\n",
        "data = pd.read_csv(url)\n",
        "\n",
        "# Preprocessing\n",
        "#data['Revenue'] = data['Revenue'].astype(int)\n",
        "#data['Weekend'] = data['Weekend'].astype(int)\n",
        "\n",
        "# Select relevant features and target\n",
        "features = data.drop(['label'], axis=1)\n",
        "target = data['label']\n",
        "\n",
        "# Simulate some unlabeled instances\n",
        "num_unlabeled = 1000\n",
        "unlabeled_indices = np.random.choice(len(features), num_unlabeled, replace=False)\n",
        "target[unlabeled_indices] = -1  # Treat these instances as unlabeled\n",
        "\n",
        "# Split data into labeled and unlabeled sets\n",
        "X_labeled, X_unlabeled, y_labeled, y_unlabeled = train_test_split(\n",
        "    features, target, test_size=num_unlabeled, random_state=42, stratify=target)\n",
        "\n",
        "# Create and train an AdaBoost classifier\n",
        "ada_classifier = AdaBoostClassifier(n_estimators=50, random_state=42)\n",
        "ada_classifier.fit(X_labeled, y_labeled)\n",
        "\n",
        "# Predict labels for the unlabeled data\n",
        "y_pred = ada_classifier.predict(X_unlabeled)\n",
        "\n",
        "# Evaluate the performance on the unlabeled data\n",
        "accuracy = accuracy_score(y_unlabeled, y_pred)\n",
        "precision = precision_score(y_unlabeled, y_pred, average='weighted')\n",
        "recall =recall_score(y_unlabeled, y_pred, average='weighted')\n",
        "f_measure = f1_score(y_unlabeled, y_pred, average='weighted')\n",
        "\n",
        "\n",
        "print(f\"Accuracy on unlabeled data: {accuracy:.2f}\")\n",
        "print(f'Precision on unlabeled data: {precision:.4f}')\n",
        "print(f'Recall on unlabeled data: {recall:.4f}')\n",
        "print(f'F1_score on unlabeled data: {f_measure:.4f}')\n"
      ]
    },
    {
      "cell_type": "code",
      "source": [
        "print(data.info())"
      ],
      "metadata": {
        "colab": {
          "base_uri": "https://localhost:8080/"
        },
        "id": "uJV0TdzlbVUN",
        "outputId": "7aff9c66-af6e-4c76-ee02-4be1d40d7756"
      },
      "execution_count": null,
      "outputs": [
        {
          "output_type": "stream",
          "name": "stdout",
          "text": [
            "<class 'pandas.core.frame.DataFrame'>\n",
            "RangeIndex: 235795 entries, 0 to 235794\n",
            "Data columns (total 49 columns):\n",
            " #   Column                      Non-Null Count   Dtype  \n",
            "---  ------                      --------------   -----  \n",
            " 0   URLLength                   235795 non-null  int64  \n",
            " 1   DomainLength                235795 non-null  int64  \n",
            " 2   TLD                         235795 non-null  int64  \n",
            " 3   URLSimilarityIndex          235795 non-null  float64\n",
            " 4   CharContinuationRate        235795 non-null  float64\n",
            " 5   TLDLegitimateProb           235795 non-null  float64\n",
            " 6   URLCharProb                 235795 non-null  float64\n",
            " 7   TLDLength                   235795 non-null  int64  \n",
            " 8   NoOfSubDomain               235795 non-null  int64  \n",
            " 9   HasObfuscation              235795 non-null  int64  \n",
            " 10  ObfuscationRatio            235795 non-null  float64\n",
            " 11  NoOfLettersInURL            235795 non-null  int64  \n",
            " 12  LetterRatioInURL            235795 non-null  float64\n",
            " 13  NoOfDegitsInURL             235795 non-null  int64  \n",
            " 14  DegitRatioInURL             235795 non-null  float64\n",
            " 15  NoOfEqualsInURL             235795 non-null  int64  \n",
            " 16  NoOfQMarkInURL              235795 non-null  int64  \n",
            " 17  NoOfOtherSpecialCharsInURL  235795 non-null  int64  \n",
            " 18  SpacialCharRatioInURL       235795 non-null  float64\n",
            " 19  IsHTTPS                     235795 non-null  int64  \n",
            " 20  LineOfCode                  235795 non-null  int64  \n",
            " 21  LargestLineLength           235795 non-null  int64  \n",
            " 22  HasTitle                    235795 non-null  int64  \n",
            " 23  DomainTitleMatchScore       235795 non-null  float64\n",
            " 24  URLTitleMatchScore          235795 non-null  float64\n",
            " 25  HasFavicon                  235795 non-null  int64  \n",
            " 26  Robots                      235795 non-null  int64  \n",
            " 27  IsResponsive                235795 non-null  int64  \n",
            " 28  NoOfURLRedirect             235795 non-null  int64  \n",
            " 29  NoOfSelfRedirect            235795 non-null  int64  \n",
            " 30  HasDescription              235795 non-null  int64  \n",
            " 31  NoOfPopup                   235795 non-null  int64  \n",
            " 32  NoOfiFrame                  235795 non-null  int64  \n",
            " 33  HasExternalFormSubmit       235795 non-null  int64  \n",
            " 34  HasSocialNet                235795 non-null  int64  \n",
            " 35  HasSubmitButton             235795 non-null  int64  \n",
            " 36  HasHiddenFields             235795 non-null  int64  \n",
            " 37  HasPasswordField            235795 non-null  int64  \n",
            " 38  Bank                        235795 non-null  int64  \n",
            " 39  Pay                         235795 non-null  int64  \n",
            " 40  Crypto                      235795 non-null  int64  \n",
            " 41  HasCopyrightInfo            235795 non-null  int64  \n",
            " 42  NoOfImage                   235795 non-null  int64  \n",
            " 43  NoOfCSS                     235795 non-null  int64  \n",
            " 44  NoOfJS                      235795 non-null  int64  \n",
            " 45  NoOfSelfRef                 235795 non-null  int64  \n",
            " 46  NoOfEmptyRef                235795 non-null  int64  \n",
            " 47  NoOfExternalRef             235795 non-null  int64  \n",
            " 48  label                       235795 non-null  int64  \n",
            "dtypes: float64(10), int64(39)\n",
            "memory usage: 88.1 MB\n",
            "None\n"
          ]
        }
      ]
    },
    {
      "cell_type": "code",
      "source": [],
      "metadata": {
        "id": "rod_EbTVZTje"
      },
      "execution_count": null,
      "outputs": []
    },
    {
      "cell_type": "code",
      "execution_count": null,
      "metadata": {
        "colab": {
          "base_uri": "https://localhost:8080/"
        },
        "id": "PRAlrB1MrJsg",
        "outputId": "691d6f4e-3bc9-4e14-c73a-9b201adef04b"
      },
      "outputs": [
        {
          "name": "stderr",
          "output_type": "stream",
          "text": [
            "<ipython-input-4-d8a3a681cc54>:22: SettingWithCopyWarning: \n",
            "A value is trying to be set on a copy of a slice from a DataFrame\n",
            "\n",
            "See the caveats in the documentation: https://pandas.pydata.org/pandas-docs/stable/user_guide/indexing.html#returning-a-view-versus-a-copy\n",
            "  target[unlabeled_indices] = -1  # Treat these instances as unlabeled\n"
          ]
        },
        {
          "name": "stdout",
          "output_type": "stream",
          "text": [
            "Accuracy on unlabeled data: 0.99\n",
            "Precision on unlabeled data: 0.9920\n",
            "Recall on unlabeled data: 0.9950\n",
            "F1_score on unlabeled data: 0.9935\n"
          ]
        }
      ],
      "source": [
        "import pandas as pd\n",
        "import numpy as np\n",
        "from sklearn.model_selection import train_test_split\n",
        "from sklearn.ensemble import GradientBoostingClassifier\n",
        "from sklearn.metrics import accuracy_score, f1_score, precision_score, recall_score\n",
        "\n",
        "# Load the PhiUSIIL Phishing URL Datase\n",
        "url = 'https://media.githubusercontent.com/media/shahriariit/opendataset/master/PhiUSIIL_phishing.csv'\n",
        "data = pd.read_csv(url)\n",
        "\n",
        "# Preprocessing\n",
        "#data['Revenue'] = data['Revenue'].astype(int)\n",
        "#data['Weekend'] = data['Weekend'].astype(int)\n",
        "\n",
        "# Select relevant features and target\n",
        "features = data.drop(['label'], axis=1)\n",
        "target = data['label']\n",
        "\n",
        "# Simulate some unlabeled instances\n",
        "num_unlabeled = 1000\n",
        "unlabeled_indices = np.random.choice(len(features), num_unlabeled, replace=False)\n",
        "target[unlabeled_indices] = -1  # Treat these instances as unlabeled\n",
        "\n",
        "# Split data into labeled and unlabeled sets\n",
        "X_labeled, X_unlabeled, y_labeled, y_unlabeled = train_test_split(\n",
        "    features, target, test_size=num_unlabeled, random_state=42, stratify=target)\n",
        "\n",
        "# Create and train a Gradient Boosting classifier\n",
        "gb_classifier = GradientBoostingClassifier(n_estimators=100, random_state=42)\n",
        "gb_classifier.fit(X_labeled, y_labeled)\n",
        "\n",
        "# Predict labels for the unlabeled data\n",
        "y_pred = gb_classifier.predict(X_unlabeled)\n",
        "\n",
        "# Evaluate the performance on the unlabeled data\n",
        "accuracy = accuracy_score(y_unlabeled, y_pred)\n",
        "precision = precision_score(y_unlabeled, y_pred, average='weighted')\n",
        "recall =recall_score(y_unlabeled, y_pred, average='weighted')\n",
        "f_measure = f1_score(y_unlabeled, y_pred, average='weighted')\n",
        "\n",
        "\n",
        "print(f\"Accuracy on unlabeled data: {accuracy:.2f}\")\n",
        "print(f'Precision on unlabeled data: {precision:.4f}')\n",
        "print(f'Recall on unlabeled data: {recall:.4f}')\n",
        "print(f'F1_score on unlabeled data: {f_measure:.4f}')"
      ]
    },
    {
      "cell_type": "code",
      "execution_count": null,
      "metadata": {
        "colab": {
          "base_uri": "https://localhost:8080/"
        },
        "id": "rSp9-CRMrTCN",
        "outputId": "d4862f4d-e095-4cc3-fda1-4a4178302fe6"
      },
      "outputs": [
        {
          "name": "stderr",
          "output_type": "stream",
          "text": [
            "<ipython-input-5-73f49f531111>:22: SettingWithCopyWarning: \n",
            "A value is trying to be set on a copy of a slice from a DataFrame\n",
            "\n",
            "See the caveats in the documentation: https://pandas.pydata.org/pandas-docs/stable/user_guide/indexing.html#returning-a-view-versus-a-copy\n",
            "  target[unlabeled_indices] = -1  # Treat these instances as unlabeled\n"
          ]
        },
        {
          "name": "stdout",
          "output_type": "stream",
          "text": [
            "Accuracy on unlabeled data: 0.98\n",
            "Precision on unlabeled data: 0.9823\n",
            "Recall on unlabeled data: 0.9820\n",
            "F1_score on unlabeled data: 0.9820\n"
          ]
        }
      ],
      "source": [
        "import pandas as pd\n",
        "import numpy as np\n",
        "from sklearn.model_selection import train_test_split\n",
        "from sklearn.naive_bayes import GaussianNB\n",
        "from sklearn.metrics import accuracy_score, f1_score, precision_score, recall_score\n",
        "\n",
        "# Load the PhiUSIIL Phishing URL Datase\n",
        "url = 'https://media.githubusercontent.com/media/shahriariit/opendataset/master/PhiUSIIL_phishing.csv'\n",
        "data = pd.read_csv(url)\n",
        "\n",
        "# Preprocessing\n",
        "#data['Revenue'] = data['Revenue'].astype(int)\n",
        "#data['Weekend'] = data['Weekend'].astype(int)\n",
        "\n",
        "# Select relevant features and target\n",
        "features = data.drop(['label'], axis=1)\n",
        "target = data['label']\n",
        "\n",
        "# Simulate some unlabeled instances\n",
        "num_unlabeled = 1000\n",
        "unlabeled_indices = np.random.choice(len(features), num_unlabeled, replace=False)\n",
        "target[unlabeled_indices] = -1  # Treat these instances as unlabeled\n",
        "\n",
        "# Split data into labeled and unlabeled sets\n",
        "X_labeled, X_unlabeled, y_labeled, y_unlabeled = train_test_split(\n",
        "    features, target, test_size=num_unlabeled, random_state=42, stratify=target)\n",
        "\n",
        "# Create and train a Gaussian Naive Bayes classifier\n",
        "naive_bayes_classifier = GaussianNB()\n",
        "naive_bayes_classifier.fit(X_labeled, y_labeled)\n",
        "\n",
        "# Predict labels for the unlabeled data\n",
        "y_pred = naive_bayes_classifier.predict(X_unlabeled)\n",
        "\n",
        "# Evaluate the performance on the unlabeled data\n",
        "accuracy = accuracy_score(y_unlabeled, y_pred)\n",
        "precision = precision_score(y_unlabeled, y_pred, average='weighted')\n",
        "recall =recall_score(y_unlabeled, y_pred, average='weighted')\n",
        "f_measure = f1_score(y_unlabeled, y_pred, average='weighted')\n",
        "\n",
        "\n",
        "print(f\"Accuracy on unlabeled data: {accuracy:.2f}\")\n",
        "print(f'Precision on unlabeled data: {precision:.4f}')\n",
        "print(f'Recall on unlabeled data: {recall:.4f}')\n",
        "print(f'F1_score on unlabeled data: {f_measure:.4f}')"
      ]
    },
    {
      "cell_type": "code",
      "execution_count": null,
      "metadata": {
        "id": "INcyMRJqre62"
      },
      "outputs": [],
      "source": []
    },
    {
      "cell_type": "code",
      "execution_count": null,
      "metadata": {
        "id": "v6sugazdMY00"
      },
      "outputs": [],
      "source": []
    },
    {
      "cell_type": "code",
      "execution_count": null,
      "metadata": {
        "colab": {
          "base_uri": "https://localhost:8080/"
        },
        "id": "aO3T9JAuro70",
        "outputId": "5826d8be-16a7-42b1-856b-84ac7733aa36"
      },
      "outputs": [
        {
          "output_type": "stream",
          "name": "stderr",
          "text": [
            "<ipython-input-1-f018f50a27f9>:22: SettingWithCopyWarning: \n",
            "A value is trying to be set on a copy of a slice from a DataFrame\n",
            "\n",
            "See the caveats in the documentation: https://pandas.pydata.org/pandas-docs/stable/user_guide/indexing.html#returning-a-view-versus-a-copy\n",
            "  target[unlabeled_indices] = -1  # Treat these instances as unlabeled\n"
          ]
        },
        {
          "output_type": "stream",
          "name": "stdout",
          "text": [
            "Accuracy on unlabeled data: 1.00\n",
            "Precision on unlabeled data: 0.9920\n",
            "Recall on unlabeled data: 0.9960\n",
            "F1_score on unlabeled data: 0.9940\n"
          ]
        },
        {
          "output_type": "stream",
          "name": "stderr",
          "text": [
            "/usr/local/lib/python3.10/dist-packages/sklearn/metrics/_classification.py:1344: UndefinedMetricWarning: Precision is ill-defined and being set to 0.0 in labels with no predicted samples. Use `zero_division` parameter to control this behavior.\n",
            "  _warn_prf(average, modifier, msg_start, len(result))\n"
          ]
        }
      ],
      "source": [
        "import pandas as pd\n",
        "import numpy as np\n",
        "from sklearn.model_selection import train_test_split\n",
        "from sklearn.ensemble import RandomForestClassifier\n",
        "from sklearn.metrics import accuracy_score, f1_score, precision_score, recall_score\n",
        "\n",
        "# Load the PhiUSIIL Phishing URL Datase\n",
        "url = 'https://media.githubusercontent.com/media/shahriariit/opendataset/master/PhiUSIIL_phishing.csv'\n",
        "data = pd.read_csv(url)\n",
        "\n",
        "# Preprocessing\n",
        "#data['Revenue'] = data['Revenue'].astype(int)\n",
        "#data['Weekend'] = data['Weekend'].astype(int)\n",
        "\n",
        "# Select relevant features and target\n",
        "features = data.drop(['label'], axis=1)\n",
        "target = data['label']\n",
        "\n",
        "# Simulate some unlabeled instances\n",
        "num_unlabeled = 1000\n",
        "unlabeled_indices = np.random.choice(len(features), num_unlabeled, replace=False)\n",
        "target[unlabeled_indices] = -1  # Treat these instances as unlabeled\n",
        "\n",
        "# Split data into labeled and unlabeled sets\n",
        "X_labeled, X_unlabeled, y_labeled, y_unlabeled = train_test_split(\n",
        "    features, target, test_size=num_unlabeled, random_state=42, stratify=target)\n",
        "\n",
        "# Create and train a Random Forest classifier\n",
        "random_forest_classifier = RandomForestClassifier(n_estimators=100, random_state=42)\n",
        "random_forest_classifier.fit(X_labeled, y_labeled)\n",
        "\n",
        "# Predict labels for the unlabeled data\n",
        "y_pred = random_forest_classifier.predict(X_unlabeled)\n",
        "\n",
        "# Evaluate the performance on the unlabeled data\n",
        "accuracy = accuracy_score(y_unlabeled, y_pred)\n",
        "precision = precision_score(y_unlabeled, y_pred, average='weighted')\n",
        "recall =recall_score(y_unlabeled, y_pred, average='weighted')\n",
        "f_measure = f1_score(y_unlabeled, y_pred, average='weighted')\n",
        "\n",
        "\n",
        "print(f\"Accuracy on unlabeled data: {accuracy:.2f}\")\n",
        "print(f'Precision on unlabeled data: {precision:.4f}')\n",
        "print(f'Recall on unlabeled data: {recall:.4f}')\n",
        "print(f'F1_score on unlabeled data: {f_measure:.4f}')"
      ]
    },
    {
      "cell_type": "code",
      "source": [],
      "metadata": {
        "id": "BeEkXU7YeK6S"
      },
      "execution_count": null,
      "outputs": []
    },
    {
      "cell_type": "code",
      "execution_count": null,
      "metadata": {
        "colab": {
          "background_save": true,
          "base_uri": "https://localhost:8080/"
        },
        "id": "070-RT328VLS",
        "outputId": "22d91f6c-e5d9-40d3-8388-0a9d1f1a341d"
      },
      "outputs": [
        {
          "name": "stderr",
          "output_type": "stream",
          "text": [
            "<ipython-input-8-5adb11f6eb21>:22: SettingWithCopyWarning: \n",
            "A value is trying to be set on a copy of a slice from a DataFrame\n",
            "\n",
            "See the caveats in the documentation: https://pandas.pydata.org/pandas-docs/stable/user_guide/indexing.html#returning-a-view-versus-a-copy\n",
            "  target[unlabeled_indices] = -1  # Treat these instances as unlabeled\n"
          ]
        },
        {
          "name": "stdout",
          "output_type": "stream",
          "text": [
            "Accuracy on unlabeled data: 1.00\n",
            "Precision on unlabeled data: 0.9920\n",
            "Recall on unlabeled data: 0.9960\n",
            "F1_score on unlabeled data: 0.9940\n"
          ]
        },
        {
          "name": "stderr",
          "output_type": "stream",
          "text": [
            "/usr/local/lib/python3.10/dist-packages/sklearn/metrics/_classification.py:1344: UndefinedMetricWarning: Precision is ill-defined and being set to 0.0 in labels with no predicted samples. Use `zero_division` parameter to control this behavior.\n",
            "  _warn_prf(average, modifier, msg_start, len(result))\n"
          ]
        }
      ],
      "source": [
        "import pandas as pd\n",
        "import numpy as np\n",
        "from sklearn.model_selection import train_test_split\n",
        "from sklearn.ensemble import RandomForestClassifier\n",
        "from sklearn.metrics import accuracy_score, f1_score, precision_score, recall_score\n",
        "\n",
        "# Load the PhiUSIIL Phishing URL Datase\n",
        "url = 'https://media.githubusercontent.com/media/shahriariit/opendataset/master/PhiUSIIL_phishing.csv'\n",
        "data = pd.read_csv(url)\n",
        "\n",
        "# Preprocessing\n",
        "#data['Revenue'] = data['Revenue'].astype(int)\n",
        "#data['Weekend'] = data['Weekend'].astype(int)\n",
        "\n",
        "# Select relevant features and target\n",
        "features = data.drop(['label'], axis=1)\n",
        "target = data['label']\n",
        "\n",
        "# Simulate some unlabeled instances\n",
        "num_unlabeled = 1000\n",
        "unlabeled_indices = np.random.choice(len(features), num_unlabeled, replace=False)\n",
        "target[unlabeled_indices] = -1  # Treat these instances as unlabeled\n",
        "\n",
        "# Split data into labeled and unlabeled sets\n",
        "X_labeled, X_unlabeled, y_labeled, y_unlabeled = train_test_split(\n",
        "    features, target, test_size=num_unlabeled, random_state=42, stratify=target)\n",
        "\n",
        "# Create and train a Random Forest classifier\n",
        "random_forest_classifier = RandomForestClassifier(n_estimators=100, random_state=42)\n",
        "random_forest_classifier.fit(X_labeled, y_labeled)\n",
        "\n",
        "# Predict labels for the unlabeled data\n",
        "y_pred = random_forest_classifier.predict(X_unlabeled)\n",
        "\n",
        "# Evaluate the performance on the unlabeled data\n",
        "accuracy = accuracy_score(y_unlabeled, y_pred)\n",
        "precision = precision_score(y_unlabeled, y_pred, average='weighted')\n",
        "recall =recall_score(y_unlabeled, y_pred, average='weighted')\n",
        "f_measure = f1_score(y_unlabeled, y_pred, average='weighted')\n",
        "\n",
        "\n",
        "print(f\"Accuracy on unlabeled data: {accuracy:.2f}\")\n",
        "print(f'Precision on unlabeled data: {precision:.4f}')\n",
        "print(f'Recall on unlabeled data: {recall:.4f}')\n",
        "print(f'F1_score on unlabeled data: {f_measure:.4f}')"
      ]
    },
    {
      "cell_type": "code",
      "source": [
        "import pandas as pd\n",
        "import numpy as np\n",
        "import matplotlib.pyplot as plt\n",
        "from sklearn.linear_model import LinearRegression\n",
        "from sklearn.preprocessing import PolynomialFeatures\n",
        "from sklearn.model_selection import train_test_split\n",
        "from sklearn.metrics import mean_squared_error\n",
        "\n",
        "# Load the PhiUSIIL Phishing URL Dataset\n",
        "url = 'https://media.githubusercontent.com/media/shahriariit/opendataset/master/PhiUSIIL_phishing.csv'\n",
        "data = pd.read_csv(url)\n",
        "\n",
        "# Select relevant features and target\n",
        "X = data.drop(['label'], axis=1)\n",
        "y = data['label']\n",
        "\n",
        "# Split data into training and testing sets\n",
        "X_train, X_test, y_train, y_test = train_test_split(X, y, test_size=0.2, random_state=42)\n",
        "\n",
        "# Create polynomial features (degree 2)\n",
        "poly = PolynomialFeatures(degree=2)\n",
        "X_train_poly = poly.fit_transform(X_train)\n",
        "X_test_poly = poly.transform(X_test)\n",
        "\n",
        "# Fit a polynomial regression model\n",
        "model = LinearRegression()\n",
        "model.fit(X_train_poly, y_train)\n",
        "\n",
        "# Make predictions on the test set\n",
        "y_pred = model.predict(X_test_poly)\n",
        "\n",
        "# Evaluate the model\n",
        "mse = mean_squared_error(y_test, y_pred)\n",
        "print(f\"Mean Squared Error: {mse:.2f}\")\n",
        "\n",
        "# Visualize the results (optional)\n",
        "plt.scatter(X_test['URLLength'], y_test, color='blue', label='Actual')\n",
        "plt.scatter(X_test['TLD'], y_pred, color='red', label='Predicted')\n",
        "plt.xlabel('Feature Name')\n",
        "plt.ylabel('Target')\n",
        "plt.title('Polynomial Regression')\n",
        "plt.legend()\n",
        "plt.show()\n"
      ],
      "metadata": {
        "colab": {
          "base_uri": "https://localhost:8080/",
          "height": 490
        },
        "id": "D4MfHCrc1IU3",
        "outputId": "8c74c3fb-b2d2-4846-de58-a8ab0f7a10d0"
      },
      "execution_count": null,
      "outputs": [
        {
          "output_type": "stream",
          "name": "stdout",
          "text": [
            "Mean Squared Error: 0.00\n"
          ]
        },
        {
          "output_type": "display_data",
          "data": {
            "text/plain": [
              "<Figure size 640x480 with 1 Axes>"
            ],
            "image/png": "[encoded data removed]"
          },
          "metadata": {}
        }
      ]
    }
  ],
  "metadata": {
    "colab": {
      "provenance": [],
      "include_colab_link": true
    },
    "kernelspec": {
      "display_name": "Python 3",
      "name": "python3"
    },
    "language_info": {
      "name": "python"
    }
  },
  "nbformat": 4,
  "nbformat_minor": 0
}